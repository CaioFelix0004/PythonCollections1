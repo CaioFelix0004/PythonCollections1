{
 "cells": [
  {
   "cell_type": "code",
   "execution_count": null,
   "metadata": {
    "colab": {
     "base_uri": "https://localhost:8080/",
     "height": 90
    },
    "id": "eG5MDCuwmDoZ",
    "outputId": "9b923a2d-7a93-4545-e3ef-0d5866db9196"
   },
   "outputs": [
    {
     "name": "stdout",
     "output_type": "stream",
     "text": [
      "39\n",
      "30\n",
      "20\n",
      "15\n"
     ]
    }
   ],
   "source": [
    "idade1 = 39\n",
    "idade2 = 30\n",
    "idade3 = 20\n",
    "idade4 = 15\n",
    "\n",
    "print(idade1)\n",
    "print(idade2)\n",
    "print(idade3)\n",
    "print(idade4)"
   ]
  },
  {
   "cell_type": "code",
   "execution_count": null,
   "metadata": {
    "colab": {
     "base_uri": "https://localhost:8080/",
     "height": 34
    },
    "id": "GNb8JuxBnIWy",
    "outputId": "ebb1118f-72ff-4593-a3c3-10698b8a2096"
   },
   "outputs": [
    {
     "name": "stdout",
     "output_type": "stream",
     "text": [
      "[30, 39, 20, 15]\n"
     ]
    }
   ],
   "source": [
    "idades = [30, 39, 20, 15]\n",
    "print(idades)"
   ]
  },
  {
   "cell_type": "code",
   "execution_count": null,
   "metadata": {
    "id": "vTaNJRDrM22B"
   },
   "outputs": [],
   "source": [
    "class ContaCorrente:\n",
    "    def __init__(self, agencia):\n",
    "        self.agencia = agencia\n",
    "        self.valor = 0\n",
    "\n",
    "    def deposita(self, valor):\n",
    "      self.valor += valor\n",
    "\n",
    "  "
   ]
  },
  {
   "cell_type": "code",
   "execution_count": null,
   "metadata": {
    "colab": {
     "base_uri": "https://localhost:8080/",
     "height": 34
    },
    "id": "iXP4ElzPM_pm",
    "outputId": "72ba02aa-a6f4-418a-9ec6-47cbb7c42b49"
   },
   "outputs": [
    {
     "data": {
      "text/plain": [
       "300"
      ]
     },
     "execution_count": 4,
     "metadata": {
      "tags": []
     },
     "output_type": "execute_result"
    }
   ],
   "source": [
    "conta_do_gui = ContaCorrente(313)\n",
    "conta_do_gui.deposita(300)\n",
    "conta_do_gui.valor\n"
   ]
  },
  {
   "cell_type": "code",
   "execution_count": null,
   "metadata": {
    "id": "a4MauQCWNUJt"
   },
   "outputs": [],
   "source": []
  },
  {
   "cell_type": "markdown",
   "metadata": {
    "id": "_q3xrT6LNbjO"
   },
   "source": [
    "## Herança e Polimorfismo"
   ]
  },
  {
   "cell_type": "code",
   "execution_count": 28,
   "metadata": {
    "id": "LmyTCU_1Ngb7"
   },
   "outputs": [],
   "source": [
    "from abc import ABCMeta, abstractmethod\n",
    "\n",
    "\n",
    "class Conta(metaclass = ABCMeta):\n",
    "  def __init__(self, codigo):\n",
    "    self._codigo = codigo\n",
    "    self._saldo = 0\n",
    "\n",
    "  def deposita(self, valor):\n",
    "    self._saldo += valor\n",
    "\n",
    "  @abstractmethod\n",
    "  def passa_o_mes(self):\n",
    "    pass\n",
    "\n",
    "  def __str__(self):\n",
    "    return f'>> Codigo {self._codigo} Saldo {self._saldo} <<'\n",
    "\n",
    "\n",
    "\n"
   ]
  },
  {
   "cell_type": "code",
   "execution_count": 31,
   "metadata": {
    "id": "_NllBaXpN6sF"
   },
   "outputs": [],
   "source": [
    "class ContaCorrente(Conta):\n",
    "  def passa_o_mes(self):\n",
    "    self._saldo -= 2\n",
    "\n",
    "class ContaPoupanca(Conta):\n",
    "  def passa_o_mes(self):\n",
    "    self._saldo *= 1.01\n",
    "    self._saldo -= 3\n",
    "\n",
    "class ContaInvestimento(Conta):\n",
    "  pass\n",
    "\n"
   ]
  },
  {
   "cell_type": "code",
   "execution_count": null,
   "metadata": {
    "colab": {
     "base_uri": "https://localhost:8080/",
     "height": 167
    },
    "id": "BDKEcbkxOTwb",
    "outputId": "69f9258d-69a2-44c0-855c-be5f706ce853"
   },
   "outputs": [
    {
     "ename": "TypeError",
     "evalue": "ignored",
     "output_type": "error",
     "traceback": [
      "\u001b[0;31m---------------------------------------------------------------------------\u001b[0m",
      "\u001b[0;31mTypeError\u001b[0m                                 Traceback (most recent call last)",
      "\u001b[0;32m<ipython-input-28-3d7878134e33>\u001b[0m in \u001b[0;36m<module>\u001b[0;34m()\u001b[0m\n\u001b[0;32m----> 1\u001b[0;31m \u001b[0mContaInvestimento\u001b[0m\u001b[0;34m(\u001b[0m\u001b[0;36m11\u001b[0m\u001b[0;34m)\u001b[0m\u001b[0;34m\u001b[0m\u001b[0;34m\u001b[0m\u001b[0m\n\u001b[0m",
      "\u001b[0;31mTypeError\u001b[0m: Can't instantiate abstract class ContaInvestimento with abstract methods passa_o_mes"
     ]
    }
   ],
   "source": [
    "ContaInvestimento(11)"
   ]
  },
  {
   "cell_type": "code",
   "execution_count": null,
   "metadata": {
    "colab": {
     "base_uri": "https://localhost:8080/",
     "height": 34
    },
    "id": "XRmvicxbRaIr",
    "outputId": "411a8100-2497-414b-9bed-687f37f4f086"
   },
   "outputs": [
    {
     "name": "stdout",
     "output_type": "stream",
     "text": [
      ">> Codigo 16 Saldo 998 <<\n"
     ]
    }
   ],
   "source": [
    "conta16 = ContaCorrente(16)\n",
    "conta16.deposita(1000)\n",
    "conta16.passa_o_mes()\n",
    "print(conta16)"
   ]
  },
  {
   "cell_type": "code",
   "execution_count": null,
   "metadata": {
    "colab": {
     "base_uri": "https://localhost:8080/",
     "height": 34
    },
    "id": "GtQPACM1Ob2y",
    "outputId": "d0dc52f2-3d6e-4885-a293-651294ee5e8c"
   },
   "outputs": [
    {
     "name": "stdout",
     "output_type": "stream",
     "text": [
      ">> Codigo 17 Saldo 1007.0 <<\n"
     ]
    }
   ],
   "source": [
    "conta17 = ContaPoupanca(17)\n",
    "conta17.deposita(1000)\n",
    "conta17.passa_o_mes()\n",
    "print(conta17)"
   ]
  },
  {
   "cell_type": "code",
   "execution_count": null,
   "metadata": {
    "colab": {
     "base_uri": "https://localhost:8080/",
     "height": 52
    },
    "id": "saJCxMsyOmQN",
    "outputId": "ae26f6ca-a148-4b7b-95a9-e3e1ebe44d11"
   },
   "outputs": [
    {
     "name": "stdout",
     "output_type": "stream",
     "text": [
      ">> Codigo 16 Saldo 998 <<\n",
      ">> Codigo 17 Saldo 1007.0 <<\n"
     ]
    }
   ],
   "source": [
    "conta16 = ContaCorrente(16)\n",
    "conta16.deposita(1000)\n",
    "conta17 = ContaPoupanca(17)\n",
    "conta17.deposita(1000)\n",
    "\n",
    "contas = [conta16, conta17]\n",
    "\n",
    "for conta in contas:\n",
    "  conta.passa_o_mes()\n",
    "  print(conta)"
   ]
  },
  {
   "cell_type": "code",
   "execution_count": null,
   "metadata": {
    "id": "7wSPCYsSOwvi"
   },
   "outputs": [],
   "source": []
  },
  {
   "cell_type": "markdown",
   "metadata": {
    "id": "tsBZ-2CwPOll"
   },
   "source": [
    "## Evitar usar ARRAY!\n",
    "Se precisamos de trabalho numero uscar NP (Numpy)"
   ]
  },
  {
   "cell_type": "code",
   "execution_count": null,
   "metadata": {
    "colab": {
     "base_uri": "https://localhost:8080/",
     "height": 34
    },
    "id": "AJDB7Da7PTXh",
    "outputId": "ecccbc5c-cb81-47f1-c8e2-a07815c06d3d"
   },
   "outputs": [
    {
     "data": {
      "text/plain": [
       "array('d', [1.0, 3.5])"
      ]
     },
     "execution_count": 14,
     "metadata": {
      "tags": []
     },
     "output_type": "execute_result"
    }
   ],
   "source": [
    "import array as arr\n",
    "\n",
    "arr.array('d', [1, 3.5])"
   ]
  },
  {
   "cell_type": "code",
   "execution_count": null,
   "metadata": {
    "id": "zSdQuCwYPZMS"
   },
   "outputs": [],
   "source": [
    "import numpy as np\n",
    "numeros = np.array([1, 3.5])"
   ]
  },
  {
   "cell_type": "code",
   "execution_count": null,
   "metadata": {
    "colab": {
     "base_uri": "https://localhost:8080/",
     "height": 34
    },
    "id": "qlWdOmvxQBt5",
    "outputId": "5afca971-d9d2-4b7e-a66a-18720ace8c45"
   },
   "outputs": [
    {
     "data": {
      "text/plain": [
       "array([4. , 6.5])"
      ]
     },
     "execution_count": 18,
     "metadata": {
      "tags": []
     },
     "output_type": "execute_result"
    }
   ],
   "source": [
    "numeros + 3\n"
   ]
  },
  {
   "cell_type": "code",
   "execution_count": 2,
   "metadata": {
    "id": "wr9DOnx3QLOn"
   },
   "outputs": [
    {
     "name": "stdout",
     "output_type": "stream",
     "text": [
      ">> Codigo 37 Saldo 0  <<\n"
     ]
    }
   ],
   "source": [
    "class ContaSalario:\n",
    "    def __init__(self, codigo):\n",
    "        self._codigo = codigo\n",
    "        self._saldo = 0\n",
    "        \n",
    "    def deposita(self, valor):\n",
    "        self.__saldo += valor\n",
    "        \n",
    "    def __str__(self):\n",
    "        return f'>> Codigo {self._codigo} Saldo {self._saldo}  <<'\n",
    "    "
   ]
  },
  {
   "cell_type": "code",
   "execution_count": 3,
   "metadata": {},
   "outputs": [
    {
     "name": "stdout",
     "output_type": "stream",
     "text": [
      ">> Codigo 37 Saldo 0  <<\n"
     ]
    }
   ],
   "source": []
  },
  {
   "cell_type": "code",
   "execution_count": 4,
   "metadata": {},
   "outputs": [
    {
     "data": {
      "text/plain": [
       "False"
      ]
     },
     "execution_count": 4,
     "metadata": {},
     "output_type": "execute_result"
    }
   ],
   "source": [
    "conta1 == conta2"
   ]
  },
  {
   "cell_type": "code",
   "execution_count": 20,
   "metadata": {},
   "outputs": [],
   "source": [
    "conta1 = ContaSalario(37)\n",
    "conta2 = ContaSalario(37)\n"
   ]
  },
  {
   "cell_type": "code",
   "execution_count": 21,
   "metadata": {},
   "outputs": [
    {
     "data": {
      "text/plain": [
       "True"
      ]
     },
     "execution_count": 21,
     "metadata": {},
     "output_type": "execute_result"
    }
   ],
   "source": [
    "conta1 == conta2\n"
   ]
  },
  {
   "cell_type": "code",
   "execution_count": 22,
   "metadata": {},
   "outputs": [],
   "source": [
    " conta1.deposita(10)"
   ]
  },
  {
   "cell_type": "code",
   "execution_count": 15,
   "metadata": {},
   "outputs": [
    {
     "data": {
      "text/plain": [
       "10"
      ]
     },
     "execution_count": 15,
     "metadata": {},
     "output_type": "execute_result"
    }
   ],
   "source": [
    "conta1._saldo\n",
    "\n"
   ]
  },
  {
   "cell_type": "code",
   "execution_count": 17,
   "metadata": {},
   "outputs": [
    {
     "data": {
      "text/plain": [
       "0"
      ]
     },
     "execution_count": 17,
     "metadata": {},
     "output_type": "execute_result"
    }
   ],
   "source": [
    "conta2._saldo"
   ]
  },
  {
   "cell_type": "code",
   "execution_count": 23,
   "metadata": {},
   "outputs": [
    {
     "data": {
      "text/plain": [
       "False"
      ]
     },
     "execution_count": 23,
     "metadata": {},
     "output_type": "execute_result"
    }
   ],
   "source": [
    "conta1 == conta2"
   ]
  },
  {
   "cell_type": "code",
   "execution_count": null,
   "metadata": {},
   "outputs": [],
   "source": []
  },
  {
   "cell_type": "code",
   "execution_count": 26,
   "metadata": {},
   "outputs": [],
   "source": [
    "class ContaSalario:\n",
    "    def __init__(self, codigo):\n",
    "        self._codigo = codigo\n",
    "        self._saldo = 0\n",
    "        \n",
    "    def __eq__(self, outro):\n",
    "        if type(outro) != ContaSalario:\n",
    "            return False\n",
    "        return self._codigo == outro._codigo and self._saldo == outro._saldo\n",
    "        \n",
    "    def deposita(self, valor):\n",
    "        self._saldo += valor\n",
    "        \n",
    "    def __str__(self):\n",
    "        return f'>> Codigo {self._codigo} Saldo {self._saldo}  <<'\n",
    "    \n",
    "class ContaMultiploSalario(ContaSalario):\n",
    "    pass\n"
   ]
  },
  {
   "cell_type": "code",
   "execution_count": 33,
   "metadata": {},
   "outputs": [
    {
     "data": {
      "text/plain": [
       "False"
      ]
     },
     "execution_count": 33,
     "metadata": {},
     "output_type": "execute_result"
    }
   ],
   "source": [
    "isinstance(Conta, ContaCorrente)"
   ]
  },
  {
   "cell_type": "code",
   "execution_count": 35,
   "metadata": {},
   "outputs": [
    {
     "data": {
      "text/plain": [
       "range(0, 7)"
      ]
     },
     "execution_count": 35,
     "metadata": {},
     "output_type": "execute_result"
    }
   ],
   "source": [
    "idades = [15, 87, 65, 32, 56, 32, 49, 37]\n",
    "range(len(idades))"
   ]
  },
  {
   "cell_type": "code",
   "execution_count": 40,
   "metadata": {},
   "outputs": [
    {
     "name": "stdout",
     "output_type": "stream",
     "text": [
      "1 -> 15\n",
      "2 -> 87\n",
      "3 -> 65\n",
      "4 -> 56\n",
      "5 -> 32\n",
      "6 -> 49\n",
      "7 -> 37\n"
     ]
    }
   ],
   "source": [
    "for i in range(len(idades)):\n",
    "    print(i + 1, '->', idades[i])"
   ]
  },
  {
   "cell_type": "code",
   "execution_count": 53,
   "metadata": {},
   "outputs": [],
   "source": [
    "numerado = enumerate(idades)"
   ]
  },
  {
   "cell_type": "code",
   "execution_count": 45,
   "metadata": {},
   "outputs": [
    {
     "data": {
      "text/plain": [
       "<enumerate at 0x230e242fec0>"
      ]
     },
     "execution_count": 45,
     "metadata": {},
     "output_type": "execute_result"
    }
   ],
   "source": [
    "numerado\n"
   ]
  },
  {
   "cell_type": "code",
   "execution_count": 46,
   "metadata": {},
   "outputs": [
    {
     "name": "stdout",
     "output_type": "stream",
     "text": [
      "<enumerate object at 0x00000230E242FEC0>\n"
     ]
    }
   ],
   "source": [
    "print(numerado)"
   ]
  },
  {
   "cell_type": "code",
   "execution_count": 54,
   "metadata": {},
   "outputs": [
    {
     "name": "stdout",
     "output_type": "stream",
     "text": [
      "Indice 0 -> Idade 15\n",
      "Indice 1 -> Idade 87\n",
      "Indice 2 -> Idade 65\n",
      "Indice 3 -> Idade 56\n",
      "Indice 4 -> Idade 32\n",
      "Indice 5 -> Idade 49\n",
      "Indice 6 -> Idade 37\n"
     ]
    }
   ],
   "source": [
    "for indice, idade in numerado:\n",
    "    print(f'Indice {indice} -> Idade {idade}')"
   ]
  },
  {
   "cell_type": "code",
   "execution_count": 56,
   "metadata": {},
   "outputs": [],
   "source": [
    "usuarios = [\n",
    "    ('Guilherme', 37, 1981),\n",
    "    ('Daniela', 31, 1987),\n",
    "    ('Paulo', 39, 1979)\n",
    "]"
   ]
  },
  {
   "cell_type": "code",
   "execution_count": 60,
   "metadata": {},
   "outputs": [
    {
     "name": "stdout",
     "output_type": "stream",
     "text": [
      "37\n",
      "31\n",
      "39\n"
     ]
    }
   ],
   "source": [
    "for nome, idade, nascimento in usuarios:\n",
    "    print(idade)"
   ]
  },
  {
   "cell_type": "code",
   "execution_count": 61,
   "metadata": {},
   "outputs": [
    {
     "data": {
      "text/plain": [
       "[15, 87, 65, 56, 32, 49, 37]"
      ]
     },
     "execution_count": 61,
     "metadata": {},
     "output_type": "execute_result"
    }
   ],
   "source": [
    "idades"
   ]
  },
  {
   "cell_type": "code",
   "execution_count": 62,
   "metadata": {},
   "outputs": [
    {
     "data": {
      "text/plain": [
       "[15, 32, 37, 49, 56, 65, 87]"
      ]
     },
     "execution_count": 62,
     "metadata": {},
     "output_type": "execute_result"
    }
   ],
   "source": [
    "sorted(idades)"
   ]
  },
  {
   "cell_type": "code",
   "execution_count": 63,
   "metadata": {},
   "outputs": [
    {
     "data": {
      "text/plain": [
       "<list_reverseiterator at 0x230e2516100>"
      ]
     },
     "execution_count": 63,
     "metadata": {},
     "output_type": "execute_result"
    }
   ],
   "source": [
    "reversed(idades)"
   ]
  },
  {
   "cell_type": "code",
   "execution_count": 64,
   "metadata": {},
   "outputs": [
    {
     "data": {
      "text/plain": [
       "[37, 49, 32, 56, 65, 87, 15]"
      ]
     },
     "execution_count": 64,
     "metadata": {},
     "output_type": "execute_result"
    }
   ],
   "source": [
    "list(reversed(idades))"
   ]
  },
  {
   "cell_type": "code",
   "execution_count": null,
   "metadata": {},
   "outputs": [],
   "source": []
  },
  {
   "cell_type": "code",
   "execution_count": 68,
   "metadata": {
    "id": "wr9DOnx3QLOn"
   },
   "outputs": [],
   "source": [
    "class ContaSalario:\n",
    "    def __init__(self, codigo):\n",
    "        self._codigo = codigo\n",
    "        self._saldo = 0\n",
    "        \n",
    "    def __eq__(self, outro):\n",
    "        if type(outro) != ContaSalario:\n",
    "            return False\n",
    "        return self._codigo == outro._codigo and self._saldo == outro._saldo\n",
    "        \n",
    "    def deposita(self, valor):\n",
    "        self._saldo += valor\n",
    "        \n",
    "    def __str__(self):\n",
    "        return f'>> Codigo {self._codigo} Saldo {self._saldo}  <<'\n",
    "    "
   ]
  },
  {
   "cell_type": "code",
   "execution_count": 71,
   "metadata": {},
   "outputs": [],
   "source": [
    "conta_do_guilherme = ContaSalario(17)\n",
    "conta_do_guilherme.deposita(500)\n",
    "\n",
    "conta_da_daniela = ContaSalario(3)\n",
    "conta_da_daniela.deposita(1000)\n",
    "\n",
    "conta_do_paulo = ContaSalario(133)\n",
    "conta_do_paulo.deposita(510)"
   ]
  },
  {
   "cell_type": "code",
   "execution_count": 72,
   "metadata": {},
   "outputs": [],
   "source": [
    "contas = [conta_do_guilherme, conta_da_daniela, conta_do_paulo]"
   ]
  },
  {
   "cell_type": "code",
   "execution_count": 74,
   "metadata": {},
   "outputs": [
    {
     "name": "stdout",
     "output_type": "stream",
     "text": [
      ">> Codigo 17 Saldo 500  <<\n",
      ">> Codigo 3 Saldo 1000  <<\n",
      ">> Codigo 133 Saldo 510  <<\n"
     ]
    }
   ],
   "source": [
    "for conta in contas:\n",
    "    print(conta)"
   ]
  },
  {
   "cell_type": "code",
   "execution_count": 76,
   "metadata": {},
   "outputs": [
    {
     "name": "stdout",
     "output_type": "stream",
     "text": [
      ">> Codigo 17 Saldo 500  <<\n",
      ">> Codigo 133 Saldo 510  <<\n",
      ">> Codigo 3 Saldo 1000  <<\n"
     ]
    }
   ],
   "source": [
    "def extrai_saldo(conta):\n",
    "    return conta._saldo\n",
    "\n",
    "\n",
    "for conta in sorted(contas, key=extrai_saldo):\n",
    "    print(conta)"
   ]
  },
  {
   "cell_type": "code",
   "execution_count": null,
   "metadata": {},
   "outputs": [],
   "source": []
  },
  {
   "cell_type": "code",
   "execution_count": 77,
   "metadata": {
    "id": "wr9DOnx3QLOn"
   },
   "outputs": [],
   "source": [
    "class ContaSalario:\n",
    "    def __init__(self, codigo):\n",
    "        self._codigo = codigo\n",
    "        self._saldo = 0\n",
    "        \n",
    "    def __eq__(self, outro):\n",
    "        if type(outro) != ContaSalario:\n",
    "            return False\n",
    "        return self._codigo == outro._codigo and self._saldo == outro._saldo\n",
    "    \n",
    "    def __lt__(self, outro):\n",
    "        return self._saldo < outro._saldo\n",
    "        \n",
    "    def deposita(self, valor):\n",
    "        self._saldo += valor\n",
    "        \n",
    "    def __str__(self):\n",
    "        return f'>> Codigo {self._codigo} Saldo {self._saldo}  <<'\n",
    "    "
   ]
  },
  {
   "cell_type": "code",
   "execution_count": null,
   "metadata": {},
   "outputs": [],
   "source": []
  },
  {
   "cell_type": "code",
   "execution_count": 78,
   "metadata": {},
   "outputs": [],
   "source": [
    "conta_do_guilherme = ContaSalario(17)\n",
    "conta_do_guilherme.deposita(500)\n",
    "\n",
    "conta_da_daniela = ContaSalario(3)\n",
    "conta_da_daniela.deposita(1000)\n",
    "\n",
    "conta_do_paulo = ContaSalario(133)\n",
    "conta_do_paulo.deposita(510)"
   ]
  },
  {
   "cell_type": "code",
   "execution_count": 78,
   "metadata": {},
   "outputs": [],
   "source": [
    "conta_do_guilherme = ContaSalario(17)\n",
    "conta_do_guilherme.deposita(500)\n",
    "\n",
    "conta_da_daniela = ContaSalario(3)\n",
    "conta_da_daniela.deposita(1000)\n",
    "\n",
    "conta_do_paulo = ContaSalario(133)\n",
    "conta_do_paulo.deposita(510)"
   ]
  },
  {
   "cell_type": "code",
   "execution_count": 79,
   "metadata": {},
   "outputs": [
    {
     "data": {
      "text/plain": [
       "True"
      ]
     },
     "execution_count": 79,
     "metadata": {},
     "output_type": "execute_result"
    }
   ],
   "source": [
    "conta_do_guilherme < conta_da_daniela"
   ]
  },
  {
   "cell_type": "code",
   "execution_count": 80,
   "metadata": {},
   "outputs": [
    {
     "ename": "TypeError",
     "evalue": "'<' not supported between instances of 'ContaSalario' and 'ContaSalario'",
     "output_type": "error",
     "traceback": [
      "\u001b[1;31m---------------------------------------------------------------------------\u001b[0m",
      "\u001b[1;31mTypeError\u001b[0m                                 Traceback (most recent call last)",
      "\u001b[1;32m<ipython-input-80-df7230969aa4>\u001b[0m in \u001b[0;36m<module>\u001b[1;34m\u001b[0m\n\u001b[1;32m----> 1\u001b[1;33m \u001b[0msorted\u001b[0m\u001b[1;33m(\u001b[0m\u001b[0mcontas\u001b[0m\u001b[1;33m)\u001b[0m\u001b[1;33m\u001b[0m\u001b[1;33m\u001b[0m\u001b[0m\n\u001b[0m",
      "\u001b[1;31mTypeError\u001b[0m: '<' not supported between instances of 'ContaSalario' and 'ContaSalario'"
     ]
    }
   ],
   "source": [
    "sorted(contas)"
   ]
  },
  {
   "cell_type": "code",
   "execution_count": null,
   "metadata": {},
   "outputs": [],
   "source": []
  },
  {
   "cell_type": "code",
   "execution_count": 81,
   "metadata": {},
   "outputs": [],
   "source": [
    "contas = [conta_do_guilherme, conta_da_daniela, conta_do_paulo]\n"
   ]
  },
  {
   "cell_type": "code",
   "execution_count": 82,
   "metadata": {},
   "outputs": [
    {
     "data": {
      "text/plain": [
       "[<__main__.ContaSalario at 0x230e252cb80>,\n",
       " <__main__.ContaSalario at 0x230e252c640>,\n",
       " <__main__.ContaSalario at 0x230e252c0a0>]"
      ]
     },
     "execution_count": 82,
     "metadata": {},
     "output_type": "execute_result"
    }
   ],
   "source": [
    "sorted(contas)\n"
   ]
  },
  {
   "cell_type": "code",
   "execution_count": 83,
   "metadata": {},
   "outputs": [
    {
     "name": "stdout",
     "output_type": "stream",
     "text": [
      ">> Codigo 17 Saldo 500  <<\n",
      ">> Codigo 133 Saldo 510  <<\n",
      ">> Codigo 3 Saldo 1000  <<\n"
     ]
    }
   ],
   "source": [
    "for conta in sorted(contas):\n",
    "    print(conta)"
   ]
  },
  {
   "cell_type": "code",
   "execution_count": 87,
   "metadata": {},
   "outputs": [],
   "source": [
    "from operator import attrgetter"
   ]
  },
  {
   "cell_type": "code",
   "execution_count": 86,
   "metadata": {},
   "outputs": [],
   "source": [
    "conta_do_guilherme = ContaSalario(17)\n",
    "conta_do_guilherme.deposita(500)\n",
    "\n",
    "conta_da_daniela = ContaSalario(3)\n",
    "conta_da_daniela.deposita(1000)\n",
    "\n",
    "conta_do_paulo = ContaSalario(133)\n",
    "conta_do_paulo.deposita(510)\n",
    "contas = [conta_do_guilherme, conta_da_daniela, conta_do_paulo]"
   ]
  },
  {
   "cell_type": "raw",
   "metadata": {},
   "source": [
    "for conta in sorted(contas"
   ]
  },
  {
   "cell_type": "code",
   "execution_count": null,
   "metadata": {},
   "outputs": [],
   "source": []
  }
 ],
 "metadata": {
  "colab": {
   "collapsed_sections": [],
   "name": "PythonCollections1",
   "provenance": []
  },
  "kernelspec": {
   "display_name": "Python 3",
   "language": "python",
   "name": "python3"
  },
  "language_info": {
   "codemirror_mode": {
    "name": "ipython",
    "version": 3
   },
   "file_extension": ".py",
   "mimetype": "text/x-python",
   "name": "python",
   "nbconvert_exporter": "python",
   "pygments_lexer": "ipython3",
   "version": "3.9.0"
  }
 },
 "nbformat": 4,
 "nbformat_minor": 4
}
